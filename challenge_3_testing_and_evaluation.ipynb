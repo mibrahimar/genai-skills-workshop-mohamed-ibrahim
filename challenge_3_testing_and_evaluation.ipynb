{
  "cells": [
    {
      "cell_type": "markdown",
      "source": [
        "# Challenge three: Testing and evaluation\n",
        "Goal: Demonstrate your ability to write tests and evaluate responses from large language models."
      ],
      "metadata": {
        "id": "u4DMe9ZRBTRQ"
      },
      "id": "u4DMe9ZRBTRQ"
    },
    {
      "cell_type": "markdown",
      "source": [
        "### Install required packages"
      ],
      "metadata": {
        "id": "EPHRcOTsUZ-5"
      },
      "id": "EPHRcOTsUZ-5"
    },
    {
      "cell_type": "code",
      "source": [
        "!pip install langchain-google-vertexai --quiet"
      ],
      "metadata": {
        "id": "r--CWXOOEHTT"
      },
      "id": "r--CWXOOEHTT",
      "execution_count": 1,
      "outputs": []
    },
    {
      "cell_type": "markdown",
      "source": [
        "### Import required packages"
      ],
      "metadata": {
        "id": "RNW_4pweUdtT"
      },
      "id": "RNW_4pweUdtT"
    },
    {
      "cell_type": "code",
      "id": "kg2Fpsj5za06PG4tpS7AVGI8",
      "metadata": {
        "tags": [],
        "id": "kg2Fpsj5za06PG4tpS7AVGI8"
      },
      "source": [
        "from google import genai\n",
        "from langchain_google_vertexai import ChatVertexAI\n",
        "from langchain_core.messages import SystemMessage, HumanMessage"
      ],
      "execution_count": 2,
      "outputs": []
    },
    {
      "cell_type": "markdown",
      "source": [
        "### Setup variables"
      ],
      "metadata": {
        "id": "_f8KECPoUflH"
      },
      "id": "_f8KECPoUflH"
    },
    {
      "cell_type": "code",
      "source": [
        "MODEL=\"gemini-2.0-flash\"\n",
        "PROJECT_ID='qwiklabs-gcp-03-7a8bdf6e2e2c'\n",
        "LOCATION='us-central1'"
      ],
      "metadata": {
        "id": "DWBFR5XHCR54"
      },
      "id": "DWBFR5XHCR54",
      "execution_count": 3,
      "outputs": []
    },
    {
      "cell_type": "markdown",
      "source": [
        "### Create model"
      ],
      "metadata": {
        "id": "0oZSQgoTUkhc"
      },
      "id": "0oZSQgoTUkhc"
    },
    {
      "cell_type": "code",
      "source": [
        "llm = ChatVertexAI(\n",
        "    model_name=\"gemini-2.0-flash-001\",\n",
        "    temperature=0,\n",
        "    max_tokens=None,\n",
        "    max_retries=2,\n",
        "    stop=None,\n",
        ")"
      ],
      "metadata": {
        "id": "tR2xHStPEds1"
      },
      "id": "tR2xHStPEds1",
      "execution_count": 5,
      "outputs": []
    },
    {
      "cell_type": "markdown",
      "source": [
        "### Create function to classify category"
      ],
      "metadata": {
        "id": "0fJKWKwVUjxC"
      },
      "id": "0fJKWKwVUjxC"
    },
    {
      "cell_type": "code",
      "source": [
        "from pydantic import BaseModel, Field\n",
        "class ResponseFormatter(BaseModel):\n",
        "    \"\"\"Always use this tool to structure your response to the user.\"\"\"\n",
        "    category: str = Field(description=\"The category of the user's question\")\n",
        "\n",
        "\n",
        "def classify(question: str):\n",
        "    categories = [\"Employment\", \"General Information\", \"Emergency Services\", \"Tax Related\"]\n",
        "    system_prompt = (\n",
        "          f\"\"\"You are a helpful classifier. Your task is to classify the user's question into one of the following categories: {', '.join(categories)}.\\n\n",
        "          Respond ONLY in the following JSON format:\n",
        "          {{\n",
        "          \"category\": \"<one of the four categories above>\"\n",
        "          }}\"\"\"\n",
        "    )\n",
        "    messages = [\n",
        "        SystemMessage(content=system_prompt),\n",
        "        HumanMessage(\n",
        "            content=f\"question: {question}\"\n",
        "        ),\n",
        "    ]\n",
        "    response = llm.with_structured_output(ResponseFormatter).invoke(messages)\n",
        "    return response.category"
      ],
      "metadata": {
        "id": "n3f1jF1VBwsE"
      },
      "id": "n3f1jF1VBwsE",
      "execution_count": 6,
      "outputs": []
    },
    {
      "cell_type": "code",
      "source": [
        "print(classify(\"How many leaves are allowed?\"))"
      ],
      "metadata": {
        "colab": {
          "base_uri": "https://localhost:8080/"
        },
        "id": "iGf1tHgQCVSX",
        "outputId": "74fa27f5-06ec-4aad-ef1b-6d5735ad0102"
      },
      "id": "iGf1tHgQCVSX",
      "execution_count": 7,
      "outputs": [
        {
          "output_type": "stream",
          "name": "stdout",
          "text": [
            "Employment\n"
          ]
        }
      ]
    },
    {
      "cell_type": "markdown",
      "source": [
        "### Unit test classification"
      ],
      "metadata": {
        "id": "Dtb-xbRAUrD1"
      },
      "id": "Dtb-xbRAUrD1"
    },
    {
      "cell_type": "code",
      "source": [
        "import unittest\n",
        "class test_classify(unittest.TestCase):\n",
        "    def test_classify_Employment(self):\n",
        "      category = classify(\"How do I apply for a government job?\")\n",
        "      self.assertEqual(category, \"Employment\")\n",
        "\n",
        "    def test_classify_General_Information(self):\n",
        "      category = classify(\"Is the public library open on national holidays?\")\n",
        "      self.assertEqual(category, \"General Information\")\n",
        "\n",
        "    def test_classify_Emergency_Services(self):\n",
        "      category = classify(\"Is there any emergency number to call during floods?\")\n",
        "      self.assertEqual(category, \"Emergency Services\")\n",
        "\n",
        "    def test_classify_Tax_Related(self):\n",
        "      category = classify(\"When will the tax filing deadline be this year?\")\n",
        "      self.assertEqual(category, \"Tax Related\")\n",
        "unittest.main(argv=[''], verbosity=2, exit=False)"
      ],
      "metadata": {
        "colab": {
          "base_uri": "https://localhost:8080/"
        },
        "id": "angAy0KUHeXB",
        "outputId": "b5fae863-c465-44d5-c2af-9da9d8424612"
      },
      "id": "angAy0KUHeXB",
      "execution_count": 8,
      "outputs": [
        {
          "output_type": "stream",
          "name": "stderr",
          "text": [
            "test_classify_Emergency_Services (__main__.test_classify.test_classify_Emergency_Services) ... ok\n",
            "test_classify_Employment (__main__.test_classify.test_classify_Employment) ... ok\n",
            "test_classify_General_Information (__main__.test_classify.test_classify_General_Information) ... ok\n",
            "test_classify_Tax_Related (__main__.test_classify.test_classify_Tax_Related) ... ok\n",
            "\n",
            "----------------------------------------------------------------------\n",
            "Ran 4 tests in 1.924s\n",
            "\n",
            "OK\n"
          ]
        },
        {
          "output_type": "execute_result",
          "data": {
            "text/plain": [
              "<unittest.main.TestProgram at 0x7fb9d44809d0>"
            ]
          },
          "metadata": {},
          "execution_count": 8
        }
      ]
    },
    {
      "cell_type": "markdown",
      "source": [
        "### Create function to generate social media post"
      ],
      "metadata": {
        "id": "ppAXU6VkUuC8"
      },
      "id": "ppAXU6VkUuC8"
    },
    {
      "cell_type": "code",
      "source": [
        "generate_post_system_prompt = f\"\"\"You are a responsible and professional government communications assistant.\n",
        "\n",
        "Your task is to generate short, clear, and informative social media posts (such as for Twitter, Facebook, or Instagram) based on official government announcements.\n",
        "\n",
        "Follow these principles:\n",
        "\n",
        "1. Be accurate, calm, and authoritative — avoid exaggeration or speculation.\n",
        "2. Use accessible, inclusive language suitable for the general public.\n",
        "3. Prioritize clarity over style. Keep the message easy to understand.\n",
        "4. Use proper hashtags and @mentions if applicable.\n",
        "5. For emergencies or weather alerts, emphasize action, location, and time clearly.\n",
        "6. For holidays or school closings, use a respectful and informative tone.\n",
        "7. Avoid political or promotional language.\n",
        "8. Keep posts under 280 characters when possible (for Twitter/X compatibility).\n",
        "9. Include emojis if appropriate, but never at the expense of clarity or seriousness.\n",
        "\n",
        "Format:\n",
        "- Output: A single social media post.\n",
        "- Optionally add hashtags or links at the end if relevant.\n",
        "- Never include the original announcement text in the post.\n",
        "\n",
        "Your audience is the general public — students, families, commuters, and citizens.\n",
        "\n",
        "Generate a suitable post for the following announcement:\n",
        "\"\"\"\n",
        "\n",
        "def generate_post(announcement: str):\n",
        "    messages = [\n",
        "        SystemMessage(content=generate_post_system_prompt),\n",
        "        HumanMessage(\n",
        "            content=f\"announcement: {announcement}\"\n",
        "        ),\n",
        "    ]\n",
        "    response = llm.invoke(messages)\n",
        "    return response.content"
      ],
      "metadata": {
        "id": "9-jQPqz4CbiU"
      },
      "id": "9-jQPqz4CbiU",
      "execution_count": 9,
      "outputs": []
    },
    {
      "cell_type": "code",
      "source": [
        "print(generate_post(\"weather emergency tomorrow because of rain\"))"
      ],
      "metadata": {
        "colab": {
          "base_uri": "https://localhost:8080/"
        },
        "id": "6aXbx3k1F_Dc",
        "outputId": "053c5ee6-2efc-45b6-b612-6d73017676d6"
      },
      "id": "6aXbx3k1F_Dc",
      "execution_count": 10,
      "outputs": [
        {
          "output_type": "stream",
          "name": "stdout",
          "text": [
            "Stay safe tomorrow! 🌧️ Heavy rain is expected. Avoid unnecessary travel. Check local news for updates. #WeatherAlert #SafetyFirst\n",
            "\n"
          ]
        }
      ]
    },
    {
      "cell_type": "markdown",
      "source": [
        "### Create function to evaluate post using LLM"
      ],
      "metadata": {
        "id": "OG9j4dIoUwvY"
      },
      "id": "OG9j4dIoUwvY"
    },
    {
      "cell_type": "code",
      "source": [
        "def eval_generate_post(post: str):\n",
        "    system_prompt = (\n",
        "          f\"\"\"\n",
        "          You are a professional communications reviewer for a government agency.\n",
        "Your task is to evaluate social media posts intended for public announcements, such as weather emergencies, school closings, public holidays, or civic updates.\n",
        "Assess each post across the following criteria:\n",
        "\n",
        "1. **Clarity** – Is the message understandable by the general public (including people with low literacy or non-native speakers)?\n",
        "2. **Tone** – Is the tone appropriate for the subject (e.g., serious for emergencies, respectful for closures, neutral for general info)?\n",
        "3. **Accuracy** – Is the information factually correct and free of speculation or misleading language?\n",
        "4. **Urgency (if applicable)** – Does the post convey a clear call to action in urgent or emergency contexts?\n",
        "5. **Length** – Is the post concise (preferably under 280 characters for X/Twitter)?\n",
        "6. **Hashtag/Tag Use** – Are hashtags relevant and not excessive? Are accounts tagged appropriately (if mentioned)?\n",
        "7. **Language Suitability** – Avoids jargon, political commentary, slang, or marketing language.\n",
        "8. **Formatting** – Uses proper capitalization, punctuation, and optional emoji appropriately.\n",
        "\n",
        "Return Yes if all of them are passed otherwise return No\n",
        "ONLY RETURN Yes or NO\n",
        "\"\"\"\n",
        "    )\n",
        "    messages = [\n",
        "        SystemMessage(content=system_prompt),\n",
        "        HumanMessage(\n",
        "            content=f\"post: {post}\"\n",
        "        ),\n",
        "    ]\n",
        "    response = llm.invoke(messages)\n",
        "    return response.content.strip()"
      ],
      "metadata": {
        "id": "U5cT593wJe98"
      },
      "id": "U5cT593wJe98",
      "execution_count": 11,
      "outputs": []
    },
    {
      "cell_type": "markdown",
      "source": [
        "### Uni test generated post"
      ],
      "metadata": {
        "id": "4UdO5PKeU1QR"
      },
      "id": "4UdO5PKeU1QR"
    },
    {
      "cell_type": "code",
      "source": [
        "import unittest\n",
        "class test_generate_post(unittest.TestCase):\n",
        "    def test_generate_post_1(self):\n",
        "      post = generate_post(\"Heavy rainfall is expected across Chennai on July 12. The Meteorological Department has issued a red alert.\")\n",
        "      result = eval_generate_post(post)\n",
        "      self.assertEqual(result, \"Yes\")\n",
        "\n",
        "    def test_generate_post_2(self):\n",
        "      post = generate_post(\"All government offices will remain closed on August 15 in observance of Independence Day.\")\n",
        "      result = eval_generate_post(post)\n",
        "      self.assertEqual(result, \"Yes\")\n",
        "\n",
        "    def test_generate_post_3(self):\n",
        "      post = \"Transport won’t be running that day. Figure it out. 🤷\"\n",
        "      result = eval_generate_post(post)\n",
        "      self.assertEqual(result, \"No\")\n",
        "\n",
        "    def test_generate_post_4(self):\n",
        "      post = \"There’s a thing happening in the east, might be a cyclone. Stay safe or whatever.\"\n",
        "      result = eval_generate_post(post)\n",
        "      self.assertEqual(result, \"No\")\n",
        "\n",
        "    def test_generate_post_5(self):\n",
        "      post = \"NO WATER IN SECTOR 10 & 11!!! STOCK UP NOW!!! 😱😱😱 #WATERCRISIS #PANIC\"\n",
        "      result = eval_generate_post(post)\n",
        "      self.assertEqual(result, \"No\")\n",
        "\n",
        "    def test_generate_post_6(self):\n",
        "      post = \"Woohoo! No work on Oct 2 🎉 Celebrate Gandhi Day like a boss 😎🔥🔥🔥 #holiday #fun #GandhiJayanti #coolday #nooffice\"\n",
        "      result = eval_generate_post(post)\n",
        "      self.assertEqual(result, \"No\")\n",
        "\n",
        "unittest.main(argv=[''], verbosity=2, exit=False)"
      ],
      "metadata": {
        "colab": {
          "base_uri": "https://localhost:8080/"
        },
        "id": "oHFkt-kEHPBt",
        "outputId": "f04e5c30-3a74-4ac4-cc51-b3c97eaced85"
      },
      "id": "oHFkt-kEHPBt",
      "execution_count": 12,
      "outputs": [
        {
          "output_type": "stream",
          "name": "stderr",
          "text": [
            "test_classify_Emergency_Services (__main__.test_classify.test_classify_Emergency_Services) ... ok\n",
            "test_classify_Employment (__main__.test_classify.test_classify_Employment) ... ok\n",
            "test_classify_General_Information (__main__.test_classify.test_classify_General_Information) ... ok\n",
            "test_classify_Tax_Related (__main__.test_classify.test_classify_Tax_Related) ... ok\n",
            "test_generate_post_1 (__main__.test_generate_post.test_generate_post_1) ... ok\n",
            "test_generate_post_2 (__main__.test_generate_post.test_generate_post_2) ... ok\n",
            "test_generate_post_3 (__main__.test_generate_post.test_generate_post_3) ... ok\n",
            "test_generate_post_4 (__main__.test_generate_post.test_generate_post_4) ... ok\n",
            "test_generate_post_5 (__main__.test_generate_post.test_generate_post_5) ... ok\n",
            "test_generate_post_6 (__main__.test_generate_post.test_generate_post_6) ... ok\n",
            "\n",
            "----------------------------------------------------------------------\n",
            "Ran 10 tests in 4.849s\n",
            "\n",
            "OK\n"
          ]
        },
        {
          "output_type": "execute_result",
          "data": {
            "text/plain": [
              "<unittest.main.TestProgram at 0x7fb9d042bb90>"
            ]
          },
          "metadata": {},
          "execution_count": 12
        }
      ]
    },
    {
      "cell_type": "markdown",
      "source": [
        "### Evaluation Task"
      ],
      "metadata": {
        "id": "GRONaJP2N3Vi"
      },
      "id": "GRONaJP2N3Vi"
    },
    {
      "cell_type": "code",
      "source": [
        "import vertexai\n",
        "from vertexai.evaluation import (\n",
        "    EvalTask,\n",
        "    PointwiseMetric,\n",
        "    PairwiseMetric,\n",
        "    PointwiseMetricPromptTemplate,\n",
        "    PairwiseMetricPromptTemplate,\n",
        "    MetricPromptTemplateExamples,\n",
        ")\n",
        "from vertexai.generative_models import (\n",
        "    GenerativeModel,\n",
        "    HarmCategory,\n",
        "    HarmBlockThreshold,\n",
        ")\n",
        "import pandas as pd\n",
        "import plotly.graph_objects as go\n",
        "from IPython.display import HTML, Markdown, display\n",
        "import datetime\n",
        "\n",
        "vertexai.init(project=PROJECT_ID, location=LOCATION)"
      ],
      "metadata": {
        "id": "rmBtYkhPLy2m"
      },
      "id": "rmBtYkhPLy2m",
      "execution_count": 13,
      "outputs": []
    },
    {
      "cell_type": "markdown",
      "source": [
        "### Dataset from the response and prompt"
      ],
      "metadata": {
        "id": "iR6bkJetU7dV"
      },
      "id": "iR6bkJetU7dV"
    },
    {
      "cell_type": "code",
      "source": [
        "posts = [\n",
        "    {\n",
        "        \"prompt\": \"Heavy rainfall is expected across Chennai on July 12. The Meteorological Department has issued a red alert.\",\n",
        "        \"post\": \"Red alert issued for Chennai on July 12. Expect heavy rainfall. Stay indoors and avoid unnecessary travel. Stay safe. #ChennaiRains #WeatherAlert\"\n",
        "    },\n",
        "    {\n",
        "        \"prompt\": \"All government offices will remain closed on August 15 in observance of Independence Day.\",\n",
        "        \"post\": \"Government offices will be closed on August 15 for Independence Day. #IndependenceDay\"\n",
        "    },\n",
        "    {\n",
        "        \"prompt\": \"The main flyover at MG Road in Bengaluru will be closed for maintenance work from June 20 to June 22. Commuters should plan alternate routes.\",\n",
        "        \"post\": \"MG Road flyover in Bengaluru will be closed for maintenance from June 20-22. Please use alternate routes. Plan your commute accordingly. #BengaluruTraffic #RoadClosure\"\n",
        "    },\n",
        "    {\n",
        "        \"prompt\": \"An outbreak of dengue has been reported in several parts of Delhi. Citizens are advised to avoid stagnant water, wear full sleeves, and use mosquito repellents.\",\n",
        "        \"post\": \"Delhi residents: Take precautions against dengue fever. Avoid stagnant water, wear long sleeves, and use mosquito repellent. Stay safe! #Delhi #DengueAlert #PublicHealth\"\n",
        "    },\n",
        "    {\n",
        "        \"prompt\": \"Due to extreme heatwave conditions, all schools in Rajasthan will remain closed from May 10 to May 14.\",\n",
        "        \"post\": \"All schools in Rajasthan will be closed from May 10 to May 14 due to the extreme heatwave. Stay safe and hydrated. #Rajasthan #Heatwave #SchoolClosure\"\n",
        "    },\n",
        "    {\n",
        "        \"prompt\": \"The Municipal Corporation will carry out a water supply maintenance shutdown in Sector 10 and 11 from 10 AM to 6 PM on June 21.\",\n",
        "        \"post\": \"NO WATER IN SECTOR 10 & 11!!! STOCK UP NOW!!! 😱😱😱 #WATERCRISIS #PANIC\"\n",
        "    },\n",
        "    {\n",
        "        \"prompt\": \"Public transport services will be partially suspended in Delhi on August 15 for Independence Day security arrangements.\",\n",
        "        \"post\": \"Transport won’t be running that day. Figure it out. 🤷\"\n",
        "    }\n",
        "]"
      ],
      "metadata": {
        "id": "9XoTp6DZN4d0"
      },
      "id": "9XoTp6DZN4d0",
      "execution_count": 24,
      "outputs": []
    },
    {
      "cell_type": "markdown",
      "source": [
        "### Creating evaulation dataset"
      ],
      "metadata": {
        "id": "DVCyGoLVVAew"
      },
      "id": "DVCyGoLVVAew"
    },
    {
      "cell_type": "code",
      "source": [
        "eval_dataset = pd.DataFrame([\n",
        "    {\n",
        "        \"instruction\": generate_post_system_prompt,\n",
        "        \"context\": f\"announcement: {item['prompt']}\",\n",
        "        \"response\": item[\"post\"],\n",
        "    } for item in posts\n",
        "])"
      ],
      "metadata": {
        "id": "R7gFtXL-OzVI"
      },
      "id": "R7gFtXL-OzVI",
      "execution_count": 25,
      "outputs": []
    },
    {
      "cell_type": "code",
      "source": [
        "run_ts = datetime.datetime.now().strftime(\"%Y%m%d-%H%M%S\")\n",
        "eval_task = EvalTask(\n",
        "    dataset=eval_dataset,\n",
        "    metrics=[\n",
        "        MetricPromptTemplateExamples.Pointwise.GROUNDEDNESS,\n",
        "        MetricPromptTemplateExamples.Pointwise.VERBOSITY,\n",
        "        MetricPromptTemplateExamples.Pointwise.INSTRUCTION_FOLLOWING,\n",
        "        MetricPromptTemplateExamples.Pointwise.SAFETY\n",
        "    ],\n",
        "    experiment=f\"social-media-post-{run_ts}\"\n",
        ")"
      ],
      "metadata": {
        "id": "W_XSPyuiPsN5"
      },
      "id": "W_XSPyuiPsN5",
      "execution_count": 26,
      "outputs": []
    },
    {
      "cell_type": "markdown",
      "source": [
        "### Running evaulation"
      ],
      "metadata": {
        "id": "L34hbkt-VEE2"
      },
      "id": "L34hbkt-VEE2"
    },
    {
      "cell_type": "code",
      "source": [
        "prompt_template = (\n",
        "    \"Instruction: {instruction}. Prompt: {context}. Post: {response}\"\n",
        ")\n",
        "result = eval_task.evaluate(\n",
        "      prompt_template=prompt_template,\n",
        "      experiment_run_name=f\"social-media-post-{run_ts}\"\n",
        ")\n",
        "evaluation_results = []\n",
        "evaluation_results.append(result)"
      ],
      "metadata": {
        "colab": {
          "base_uri": "https://localhost:8080/",
          "height": 264
        },
        "id": "2LbcA3wVQMIv",
        "outputId": "adbbc4d5-9316-4cc6-c08c-23f21d8f8476"
      },
      "id": "2LbcA3wVQMIv",
      "execution_count": 27,
      "outputs": [
        {
          "output_type": "display_data",
          "data": {
            "text/plain": [
              "<IPython.core.display.HTML object>"
            ],
            "text/html": [
              "\n",
              "        \n",
              "    <link rel=\"stylesheet\" href=\"https://fonts.googleapis.com/icon?family=Material+Icons\">\n",
              "    <style>\n",
              "      .view-vertex-resource,\n",
              "      .view-vertex-resource:hover,\n",
              "      .view-vertex-resource:visited {\n",
              "        position: relative;\n",
              "        display: inline-flex;\n",
              "        flex-direction: row;\n",
              "        height: 32px;\n",
              "        padding: 0 12px;\n",
              "          margin: 4px 18px;\n",
              "        gap: 4px;\n",
              "        border-radius: 4px;\n",
              "\n",
              "        align-items: center;\n",
              "        justify-content: center;\n",
              "        background-color: rgb(255, 255, 255);\n",
              "        color: rgb(51, 103, 214);\n",
              "\n",
              "        font-family: Roboto,\"Helvetica Neue\",sans-serif;\n",
              "        font-size: 13px;\n",
              "        font-weight: 500;\n",
              "        text-transform: uppercase;\n",
              "        text-decoration: none !important;\n",
              "\n",
              "        transition: box-shadow 280ms cubic-bezier(0.4, 0, 0.2, 1) 0s;\n",
              "        box-shadow: 0px 3px 1px -2px rgba(0,0,0,0.2), 0px 2px 2px 0px rgba(0,0,0,0.14), 0px 1px 5px 0px rgba(0,0,0,0.12);\n",
              "      }\n",
              "      .view-vertex-resource:active {\n",
              "        box-shadow: 0px 5px 5px -3px rgba(0,0,0,0.2),0px 8px 10px 1px rgba(0,0,0,0.14),0px 3px 14px 2px rgba(0,0,0,0.12);\n",
              "      }\n",
              "      .view-vertex-resource:active .view-vertex-ripple::before {\n",
              "        position: absolute;\n",
              "        top: 0;\n",
              "        bottom: 0;\n",
              "        left: 0;\n",
              "        right: 0;\n",
              "        border-radius: 4px;\n",
              "        pointer-events: none;\n",
              "\n",
              "        content: '';\n",
              "        background-color: rgb(51, 103, 214);\n",
              "        opacity: 0.12;\n",
              "      }\n",
              "      .view-vertex-icon {\n",
              "        font-size: 18px;\n",
              "      }\n",
              "    </style>\n",
              "  \n",
              "        <a class=\"view-vertex-resource\" id=\"view-vertex-resource-6088e7b9-38d1-4272-932e-a735133900d7\" href=\"#view-view-vertex-resource-6088e7b9-38d1-4272-932e-a735133900d7\">\n",
              "          <span class=\"material-icons view-vertex-icon\">science</span>\n",
              "          <span>View Experiment</span>\n",
              "        </a>\n",
              "        \n",
              "        <script>\n",
              "          (function () {\n",
              "            const link = document.getElementById('view-vertex-resource-6088e7b9-38d1-4272-932e-a735133900d7');\n",
              "            link.addEventListener('click', (e) => {\n",
              "              if (window.google?.colab?.openUrl) {\n",
              "                window.google.colab.openUrl('https://console.cloud.google.com/vertex-ai/experiments/locations/us-central1/experiments/social-media-post-20250616-103650/runs?project=qwiklabs-gcp-03-7a8bdf6e2e2c');\n",
              "              } else {\n",
              "                window.open('https://console.cloud.google.com/vertex-ai/experiments/locations/us-central1/experiments/social-media-post-20250616-103650/runs?project=qwiklabs-gcp-03-7a8bdf6e2e2c', '_blank');\n",
              "              }\n",
              "              e.stopPropagation();\n",
              "              e.preventDefault();\n",
              "            });\n",
              "          })();\n",
              "        </script>\n",
              "    "
            ]
          },
          "metadata": {}
        },
        {
          "output_type": "display_data",
          "data": {
            "text/plain": [
              "<IPython.core.display.HTML object>"
            ],
            "text/html": [
              "\n",
              "        \n",
              "    <link rel=\"stylesheet\" href=\"https://fonts.googleapis.com/icon?family=Material+Icons\">\n",
              "    <style>\n",
              "      .view-vertex-resource,\n",
              "      .view-vertex-resource:hover,\n",
              "      .view-vertex-resource:visited {\n",
              "        position: relative;\n",
              "        display: inline-flex;\n",
              "        flex-direction: row;\n",
              "        height: 32px;\n",
              "        padding: 0 12px;\n",
              "          margin: 4px 18px;\n",
              "        gap: 4px;\n",
              "        border-radius: 4px;\n",
              "\n",
              "        align-items: center;\n",
              "        justify-content: center;\n",
              "        background-color: rgb(255, 255, 255);\n",
              "        color: rgb(51, 103, 214);\n",
              "\n",
              "        font-family: Roboto,\"Helvetica Neue\",sans-serif;\n",
              "        font-size: 13px;\n",
              "        font-weight: 500;\n",
              "        text-transform: uppercase;\n",
              "        text-decoration: none !important;\n",
              "\n",
              "        transition: box-shadow 280ms cubic-bezier(0.4, 0, 0.2, 1) 0s;\n",
              "        box-shadow: 0px 3px 1px -2px rgba(0,0,0,0.2), 0px 2px 2px 0px rgba(0,0,0,0.14), 0px 1px 5px 0px rgba(0,0,0,0.12);\n",
              "      }\n",
              "      .view-vertex-resource:active {\n",
              "        box-shadow: 0px 5px 5px -3px rgba(0,0,0,0.2),0px 8px 10px 1px rgba(0,0,0,0.14),0px 3px 14px 2px rgba(0,0,0,0.12);\n",
              "      }\n",
              "      .view-vertex-resource:active .view-vertex-ripple::before {\n",
              "        position: absolute;\n",
              "        top: 0;\n",
              "        bottom: 0;\n",
              "        left: 0;\n",
              "        right: 0;\n",
              "        border-radius: 4px;\n",
              "        pointer-events: none;\n",
              "\n",
              "        content: '';\n",
              "        background-color: rgb(51, 103, 214);\n",
              "        opacity: 0.12;\n",
              "      }\n",
              "      .view-vertex-icon {\n",
              "        font-size: 18px;\n",
              "      }\n",
              "    </style>\n",
              "  \n",
              "        <a class=\"view-vertex-resource\" id=\"view-vertex-resource-57905f7f-5ae8-4de0-ab43-15e7d68d9118\" href=\"#view-view-vertex-resource-57905f7f-5ae8-4de0-ab43-15e7d68d9118\">\n",
              "          <span class=\"material-icons view-vertex-icon\">science</span>\n",
              "          <span>View Experiment Run</span>\n",
              "        </a>\n",
              "        \n",
              "        <script>\n",
              "          (function () {\n",
              "            const link = document.getElementById('view-vertex-resource-57905f7f-5ae8-4de0-ab43-15e7d68d9118');\n",
              "            link.addEventListener('click', (e) => {\n",
              "              if (window.google?.colab?.openUrl) {\n",
              "                window.google.colab.openUrl('https://console.cloud.google.com/vertex-ai/experiments/locations/us-central1/experiments/social-media-post-20250616-103650/runs/social-media-post-20250616-103650-social-media-post-20250616-103650?project=qwiklabs-gcp-03-7a8bdf6e2e2c');\n",
              "              } else {\n",
              "                window.open('https://console.cloud.google.com/vertex-ai/experiments/locations/us-central1/experiments/social-media-post-20250616-103650/runs/social-media-post-20250616-103650-social-media-post-20250616-103650?project=qwiklabs-gcp-03-7a8bdf6e2e2c', '_blank');\n",
              "              }\n",
              "              e.stopPropagation();\n",
              "              e.preventDefault();\n",
              "            });\n",
              "          })();\n",
              "        </script>\n",
              "    "
            ]
          },
          "metadata": {}
        },
        {
          "output_type": "stream",
          "name": "stderr",
          "text": [
            "INFO:vertexai.evaluation.eval_task:Logging Eval Experiment metadata: {'prompt_template': 'Instruction: {instruction}. Prompt: {context}. Post: {response}'}\n",
            "INFO:vertexai.evaluation._evaluation:Assembling prompts from the `prompt_template`. The `prompt` column in the `EvalResult.metrics_table` has the assembled prompts used for model response generation.\n",
            "INFO:vertexai.evaluation._evaluation:Computing metrics with a total of 28 Vertex Gen AI Evaluation Service API requests.\n",
            "100%|██████████| 28/28 [00:03<00:00,  8.00it/s]\n",
            "INFO:vertexai.evaluation._evaluation:All 28 metric requests are successfully computed.\n",
            "INFO:vertexai.evaluation._evaluation:Evaluation Took:3.5102648080028303 seconds\n"
          ]
        },
        {
          "output_type": "display_data",
          "data": {
            "text/plain": [
              "<IPython.core.display.HTML object>"
            ],
            "text/html": [
              "\n",
              "        \n",
              "    <link rel=\"stylesheet\" href=\"https://fonts.googleapis.com/icon?family=Material+Icons\">\n",
              "    <style>\n",
              "      .view-vertex-resource,\n",
              "      .view-vertex-resource:hover,\n",
              "      .view-vertex-resource:visited {\n",
              "        position: relative;\n",
              "        display: inline-flex;\n",
              "        flex-direction: row;\n",
              "        height: 32px;\n",
              "        padding: 0 12px;\n",
              "          margin: 4px 18px;\n",
              "        gap: 4px;\n",
              "        border-radius: 4px;\n",
              "\n",
              "        align-items: center;\n",
              "        justify-content: center;\n",
              "        background-color: rgb(255, 255, 255);\n",
              "        color: rgb(51, 103, 214);\n",
              "\n",
              "        font-family: Roboto,\"Helvetica Neue\",sans-serif;\n",
              "        font-size: 13px;\n",
              "        font-weight: 500;\n",
              "        text-transform: uppercase;\n",
              "        text-decoration: none !important;\n",
              "\n",
              "        transition: box-shadow 280ms cubic-bezier(0.4, 0, 0.2, 1) 0s;\n",
              "        box-shadow: 0px 3px 1px -2px rgba(0,0,0,0.2), 0px 2px 2px 0px rgba(0,0,0,0.14), 0px 1px 5px 0px rgba(0,0,0,0.12);\n",
              "      }\n",
              "      .view-vertex-resource:active {\n",
              "        box-shadow: 0px 5px 5px -3px rgba(0,0,0,0.2),0px 8px 10px 1px rgba(0,0,0,0.14),0px 3px 14px 2px rgba(0,0,0,0.12);\n",
              "      }\n",
              "      .view-vertex-resource:active .view-vertex-ripple::before {\n",
              "        position: absolute;\n",
              "        top: 0;\n",
              "        bottom: 0;\n",
              "        left: 0;\n",
              "        right: 0;\n",
              "        border-radius: 4px;\n",
              "        pointer-events: none;\n",
              "\n",
              "        content: '';\n",
              "        background-color: rgb(51, 103, 214);\n",
              "        opacity: 0.12;\n",
              "      }\n",
              "      .view-vertex-icon {\n",
              "        font-size: 18px;\n",
              "      }\n",
              "    </style>\n",
              "  \n",
              "        <a class=\"view-vertex-resource\" id=\"view-vertex-resource-cdcf2c43-b92b-4b3b-89e4-f8a442730a5f\" href=\"#view-view-vertex-resource-cdcf2c43-b92b-4b3b-89e4-f8a442730a5f\">\n",
              "          <span class=\"material-icons view-vertex-icon\">bar_chart</span>\n",
              "          <span>View evaluation results</span>\n",
              "        </a>\n",
              "        \n",
              "        <script>\n",
              "          (function () {\n",
              "            const link = document.getElementById('view-vertex-resource-cdcf2c43-b92b-4b3b-89e4-f8a442730a5f');\n",
              "            link.addEventListener('click', (e) => {\n",
              "              if (window.google?.colab?.openUrl) {\n",
              "                window.google.colab.openUrl('https://cloud.google.com/vertex-ai/generative-ai/docs/models/view-evaluation');\n",
              "              } else {\n",
              "                window.open('https://cloud.google.com/vertex-ai/generative-ai/docs/models/view-evaluation', '_blank');\n",
              "              }\n",
              "              e.stopPropagation();\n",
              "              e.preventDefault();\n",
              "            });\n",
              "          })();\n",
              "        </script>\n",
              "    "
            ]
          },
          "metadata": {}
        }
      ]
    },
    {
      "cell_type": "markdown",
      "source": [
        "### Comparing results"
      ],
      "metadata": {
        "id": "JDAlSfraVGMc"
      },
      "id": "JDAlSfraVGMc"
    },
    {
      "cell_type": "code",
      "source": [
        "from vertexai.preview.evaluation import notebook_utils\n",
        "notebook_utils.display_eval_result(eval_result=result)"
      ],
      "metadata": {
        "colab": {
          "base_uri": "https://localhost:8080/",
          "height": 955
        },
        "id": "uN-rWlgrSLFx",
        "outputId": "f69b0d6c-c975-44a8-e715-90ffdb623617"
      },
      "id": "uN-rWlgrSLFx",
      "execution_count": 28,
      "outputs": [
        {
          "output_type": "display_data",
          "data": {
            "text/plain": [
              "<IPython.core.display.Markdown object>"
            ],
            "text/markdown": "### Summary Metrics"
          },
          "metadata": {}
        },
        {
          "output_type": "display_data",
          "data": {
            "text/plain": [
              "   row_count  groundedness/mean  groundedness/std  verbosity/mean  \\\n",
              "0        7.0                1.0               0.0       -0.285714   \n",
              "\n",
              "   verbosity/std  instruction_following/mean  instruction_following/std  \\\n",
              "0       0.755929                    3.857143                     1.9518   \n",
              "\n",
              "   safety/mean  safety/std  \n",
              "0     0.857143    0.377964  "
            ],
            "text/html": [
              "\n",
              "  <div id=\"df-3c16d2ba-a10c-4063-8896-a19be7b3ee85\" class=\"colab-df-container\">\n",
              "    <div>\n",
              "<style scoped>\n",
              "    .dataframe tbody tr th:only-of-type {\n",
              "        vertical-align: middle;\n",
              "    }\n",
              "\n",
              "    .dataframe tbody tr th {\n",
              "        vertical-align: top;\n",
              "    }\n",
              "\n",
              "    .dataframe thead th {\n",
              "        text-align: right;\n",
              "    }\n",
              "</style>\n",
              "<table border=\"1\" class=\"dataframe\">\n",
              "  <thead>\n",
              "    <tr style=\"text-align: right;\">\n",
              "      <th></th>\n",
              "      <th>row_count</th>\n",
              "      <th>groundedness/mean</th>\n",
              "      <th>groundedness/std</th>\n",
              "      <th>verbosity/mean</th>\n",
              "      <th>verbosity/std</th>\n",
              "      <th>instruction_following/mean</th>\n",
              "      <th>instruction_following/std</th>\n",
              "      <th>safety/mean</th>\n",
              "      <th>safety/std</th>\n",
              "    </tr>\n",
              "  </thead>\n",
              "  <tbody>\n",
              "    <tr>\n",
              "      <th>0</th>\n",
              "      <td>7.0</td>\n",
              "      <td>1.0</td>\n",
              "      <td>0.0</td>\n",
              "      <td>-0.285714</td>\n",
              "      <td>0.755929</td>\n",
              "      <td>3.857143</td>\n",
              "      <td>1.9518</td>\n",
              "      <td>0.857143</td>\n",
              "      <td>0.377964</td>\n",
              "    </tr>\n",
              "  </tbody>\n",
              "</table>\n",
              "</div>\n",
              "    <div class=\"colab-df-buttons\">\n",
              "\n",
              "  <div class=\"colab-df-container\">\n",
              "    <button class=\"colab-df-convert\" onclick=\"convertToInteractive('df-3c16d2ba-a10c-4063-8896-a19be7b3ee85')\"\n",
              "            title=\"Convert this dataframe to an interactive table.\"\n",
              "            style=\"display:none;\">\n",
              "\n",
              "  <svg xmlns=\"http://www.w3.org/2000/svg\" height=\"24px\" viewBox=\"0 -960 960 960\">\n",
              "    <path d=\"M120-120v-720h720v720H120Zm60-500h600v-160H180v160Zm220 220h160v-160H400v160Zm0 220h160v-160H400v160ZM180-400h160v-160H180v160Zm440 0h160v-160H620v160ZM180-180h160v-160H180v160Zm440 0h160v-160H620v160Z\"/>\n",
              "  </svg>\n",
              "    </button>\n",
              "\n",
              "  <style>\n",
              "    .colab-df-container {\n",
              "      display:flex;\n",
              "      gap: 12px;\n",
              "    }\n",
              "\n",
              "    .colab-df-convert {\n",
              "      background-color: #E8F0FE;\n",
              "      border: none;\n",
              "      border-radius: 50%;\n",
              "      cursor: pointer;\n",
              "      display: none;\n",
              "      fill: #1967D2;\n",
              "      height: 32px;\n",
              "      padding: 0 0 0 0;\n",
              "      width: 32px;\n",
              "    }\n",
              "\n",
              "    .colab-df-convert:hover {\n",
              "      background-color: #E2EBFA;\n",
              "      box-shadow: 0px 1px 2px rgba(60, 64, 67, 0.3), 0px 1px 3px 1px rgba(60, 64, 67, 0.15);\n",
              "      fill: #174EA6;\n",
              "    }\n",
              "\n",
              "    .colab-df-buttons div {\n",
              "      margin-bottom: 4px;\n",
              "    }\n",
              "\n",
              "    [theme=dark] .colab-df-convert {\n",
              "      background-color: #3B4455;\n",
              "      fill: #D2E3FC;\n",
              "    }\n",
              "\n",
              "    [theme=dark] .colab-df-convert:hover {\n",
              "      background-color: #434B5C;\n",
              "      box-shadow: 0px 1px 3px 1px rgba(0, 0, 0, 0.15);\n",
              "      filter: drop-shadow(0px 1px 2px rgba(0, 0, 0, 0.3));\n",
              "      fill: #FFFFFF;\n",
              "    }\n",
              "  </style>\n",
              "\n",
              "    <script>\n",
              "      const buttonEl =\n",
              "        document.querySelector('#df-3c16d2ba-a10c-4063-8896-a19be7b3ee85 button.colab-df-convert');\n",
              "      buttonEl.style.display =\n",
              "        google.colab.kernel.accessAllowed ? 'block' : 'none';\n",
              "\n",
              "      async function convertToInteractive(key) {\n",
              "        const element = document.querySelector('#df-3c16d2ba-a10c-4063-8896-a19be7b3ee85');\n",
              "        const dataTable =\n",
              "          await google.colab.kernel.invokeFunction('convertToInteractive',\n",
              "                                                    [key], {});\n",
              "        if (!dataTable) return;\n",
              "\n",
              "        const docLinkHtml = 'Like what you see? Visit the ' +\n",
              "          '<a target=\"_blank\" href=https://colab.research.google.com/notebooks/data_table.ipynb>data table notebook</a>'\n",
              "          + ' to learn more about interactive tables.';\n",
              "        element.innerHTML = '';\n",
              "        dataTable['output_type'] = 'display_data';\n",
              "        await google.colab.output.renderOutput(dataTable, element);\n",
              "        const docLink = document.createElement('div');\n",
              "        docLink.innerHTML = docLinkHtml;\n",
              "        element.appendChild(docLink);\n",
              "      }\n",
              "    </script>\n",
              "  </div>\n",
              "\n",
              "\n",
              "    </div>\n",
              "  </div>\n"
            ],
            "application/vnd.google.colaboratory.intrinsic+json": {
              "type": "dataframe",
              "summary": "{\n  \"name\": \"notebook_utils\",\n  \"rows\": 1,\n  \"fields\": [\n    {\n      \"column\": \"row_count\",\n      \"properties\": {\n        \"dtype\": \"number\",\n        \"std\": null,\n        \"min\": 7.0,\n        \"max\": 7.0,\n        \"num_unique_values\": 1,\n        \"samples\": [\n          7.0\n        ],\n        \"semantic_type\": \"\",\n        \"description\": \"\"\n      }\n    },\n    {\n      \"column\": \"groundedness/mean\",\n      \"properties\": {\n        \"dtype\": \"number\",\n        \"std\": null,\n        \"min\": 1.0,\n        \"max\": 1.0,\n        \"num_unique_values\": 1,\n        \"samples\": [\n          1.0\n        ],\n        \"semantic_type\": \"\",\n        \"description\": \"\"\n      }\n    },\n    {\n      \"column\": \"groundedness/std\",\n      \"properties\": {\n        \"dtype\": \"number\",\n        \"std\": null,\n        \"min\": 0.0,\n        \"max\": 0.0,\n        \"num_unique_values\": 1,\n        \"samples\": [\n          0.0\n        ],\n        \"semantic_type\": \"\",\n        \"description\": \"\"\n      }\n    },\n    {\n      \"column\": \"verbosity/mean\",\n      \"properties\": {\n        \"dtype\": \"number\",\n        \"std\": null,\n        \"min\": -0.2857142857142857,\n        \"max\": -0.2857142857142857,\n        \"num_unique_values\": 1,\n        \"samples\": [\n          -0.2857142857142857\n        ],\n        \"semantic_type\": \"\",\n        \"description\": \"\"\n      }\n    },\n    {\n      \"column\": \"verbosity/std\",\n      \"properties\": {\n        \"dtype\": \"number\",\n        \"std\": null,\n        \"min\": 0.7559289460184545,\n        \"max\": 0.7559289460184545,\n        \"num_unique_values\": 1,\n        \"samples\": [\n          0.7559289460184545\n        ],\n        \"semantic_type\": \"\",\n        \"description\": \"\"\n      }\n    },\n    {\n      \"column\": \"instruction_following/mean\",\n      \"properties\": {\n        \"dtype\": \"number\",\n        \"std\": null,\n        \"min\": 3.857142857142857,\n        \"max\": 3.857142857142857,\n        \"num_unique_values\": 1,\n        \"samples\": [\n          3.857142857142857\n        ],\n        \"semantic_type\": \"\",\n        \"description\": \"\"\n      }\n    },\n    {\n      \"column\": \"instruction_following/std\",\n      \"properties\": {\n        \"dtype\": \"number\",\n        \"std\": null,\n        \"min\": 1.9518001458970662,\n        \"max\": 1.9518001458970662,\n        \"num_unique_values\": 1,\n        \"samples\": [\n          1.9518001458970662\n        ],\n        \"semantic_type\": \"\",\n        \"description\": \"\"\n      }\n    },\n    {\n      \"column\": \"safety/mean\",\n      \"properties\": {\n        \"dtype\": \"number\",\n        \"std\": null,\n        \"min\": 0.8571428571428571,\n        \"max\": 0.8571428571428571,\n        \"num_unique_values\": 1,\n        \"samples\": [\n          0.8571428571428571\n        ],\n        \"semantic_type\": \"\",\n        \"description\": \"\"\n      }\n    },\n    {\n      \"column\": \"safety/std\",\n      \"properties\": {\n        \"dtype\": \"number\",\n        \"std\": null,\n        \"min\": 0.37796447300922725,\n        \"max\": 0.37796447300922725,\n        \"num_unique_values\": 1,\n        \"samples\": [\n          0.37796447300922725\n        ],\n        \"semantic_type\": \"\",\n        \"description\": \"\"\n      }\n    }\n  ]\n}"
            }
          },
          "metadata": {}
        },
        {
          "output_type": "display_data",
          "data": {
            "text/plain": [
              "<IPython.core.display.Markdown object>"
            ],
            "text/markdown": "### Row-based Metrics"
          },
          "metadata": {}
        },
        {
          "output_type": "display_data",
          "data": {
            "text/plain": [
              "                                         instruction  \\\n",
              "0  You are a responsible and professional governm...   \n",
              "1  You are a responsible and professional governm...   \n",
              "2  You are a responsible and professional governm...   \n",
              "3  You are a responsible and professional governm...   \n",
              "4  You are a responsible and professional governm...   \n",
              "5  You are a responsible and professional governm...   \n",
              "6  You are a responsible and professional governm...   \n",
              "\n",
              "                                             context  \\\n",
              "0  announcement: Heavy rainfall is expected acros...   \n",
              "1  announcement: All government offices will rema...   \n",
              "2  announcement: The main flyover at MG Road in B...   \n",
              "3  announcement: An outbreak of dengue has been r...   \n",
              "4  announcement: Due to extreme heatwave conditio...   \n",
              "5  announcement: The Municipal Corporation will c...   \n",
              "6  announcement: Public transport services will b...   \n",
              "\n",
              "                                            response  \\\n",
              "0  Red alert issued for Chennai on July 12. Expec...   \n",
              "1  Government offices will be closed on August 15...   \n",
              "2  MG Road flyover in Bengaluru will be closed fo...   \n",
              "3  Delhi residents: Take precautions against deng...   \n",
              "4  All schools in Rajasthan will be closed from M...   \n",
              "5  NO WATER IN SECTOR 10 & 11!!! STOCK UP NOW!!! ...   \n",
              "6  Transport won’t be running that day. Figure it...   \n",
              "\n",
              "                                              prompt  \\\n",
              "0  Instruction: You are a responsible and profess...   \n",
              "1  Instruction: You are a responsible and profess...   \n",
              "2  Instruction: You are a responsible and profess...   \n",
              "3  Instruction: You are a responsible and profess...   \n",
              "4  Instruction: You are a responsible and profess...   \n",
              "5  Instruction: You are a responsible and profess...   \n",
              "6  Instruction: You are a responsible and profess...   \n",
              "\n",
              "                            groundedness/explanation  groundedness/score  \\\n",
              "0  The response is fully grounded in the prompt, ...                 1.0   \n",
              "1  The response is fully grounded in the provided...                 1.0   \n",
              "2  The response is completely grounded in the pro...                 1.0   \n",
              "3  The response is fully grounded as it only uses...                 1.0   \n",
              "4  The response accurately reflects the informati...                 1.0   \n",
              "5  The response completely contains the informati...                 1.0   \n",
              "6  The response is fully grounded, with all infor...                 1.0   \n",
              "\n",
              "                               verbosity/explanation  verbosity/score  \\\n",
              "0  The response is perfectly concise and provides...              0.0   \n",
              "1  The response is perfectly concise and provides...              0.0   \n",
              "2  The response is perfectly concise, providing a...              0.0   \n",
              "3  The response is appropriately concise and prov...              0.0   \n",
              "4  The response is appropriately concise and prov...              0.0   \n",
              "5  The response is perfectly concise, providing a...              0.0   \n",
              "6  The response is excessively brief and lacks cr...             -2.0   \n",
              "\n",
              "                   instruction_following/explanation  \\\n",
              "0  The response adheres to all instructions, prov...   \n",
              "1  The response completely fulfills the prompt's ...   \n",
              "2  The response accurately summarizes the announc...   \n",
              "3  The response perfectly follows the instruction...   \n",
              "4  The response followed the instructions, provid...   \n",
              "5  The response fails to adhere to almost all of ...   \n",
              "6  The response fails to adopt the tone, clarity,...   \n",
              "\n",
              "   instruction_following/score  \\\n",
              "0                          5.0   \n",
              "1                          5.0   \n",
              "2                          5.0   \n",
              "3                          5.0   \n",
              "4                          5.0   \n",
              "5                          1.0   \n",
              "6                          1.0   \n",
              "\n",
              "                                  safety/explanation  safety/score  \n",
              "0  The response is safe as it does not contain an...           1.0  \n",
              "1  The response is safe because it does not conta...           1.0  \n",
              "2  The response is safe as it does not contain an...           1.0  \n",
              "3  The response is safe as it does not contain ha...           1.0  \n",
              "4  The response is safe as it does not contain an...           1.0  \n",
              "5  The response uses alarming language and emojis...           0.0  \n",
              "6  The response is sarcastic and unhelpful, but d...           1.0  "
            ],
            "text/html": [
              "\n",
              "  <div id=\"df-07f4c2d3-4828-4bcc-acf4-f88041dddbb8\" class=\"colab-df-container\">\n",
              "    <div>\n",
              "<style scoped>\n",
              "    .dataframe tbody tr th:only-of-type {\n",
              "        vertical-align: middle;\n",
              "    }\n",
              "\n",
              "    .dataframe tbody tr th {\n",
              "        vertical-align: top;\n",
              "    }\n",
              "\n",
              "    .dataframe thead th {\n",
              "        text-align: right;\n",
              "    }\n",
              "</style>\n",
              "<table border=\"1\" class=\"dataframe\">\n",
              "  <thead>\n",
              "    <tr style=\"text-align: right;\">\n",
              "      <th></th>\n",
              "      <th>instruction</th>\n",
              "      <th>context</th>\n",
              "      <th>response</th>\n",
              "      <th>prompt</th>\n",
              "      <th>groundedness/explanation</th>\n",
              "      <th>groundedness/score</th>\n",
              "      <th>verbosity/explanation</th>\n",
              "      <th>verbosity/score</th>\n",
              "      <th>instruction_following/explanation</th>\n",
              "      <th>instruction_following/score</th>\n",
              "      <th>safety/explanation</th>\n",
              "      <th>safety/score</th>\n",
              "    </tr>\n",
              "  </thead>\n",
              "  <tbody>\n",
              "    <tr>\n",
              "      <th>0</th>\n",
              "      <td>You are a responsible and professional governm...</td>\n",
              "      <td>announcement: Heavy rainfall is expected acros...</td>\n",
              "      <td>Red alert issued for Chennai on July 12. Expec...</td>\n",
              "      <td>Instruction: You are a responsible and profess...</td>\n",
              "      <td>The response is fully grounded in the prompt, ...</td>\n",
              "      <td>1.0</td>\n",
              "      <td>The response is perfectly concise and provides...</td>\n",
              "      <td>0.0</td>\n",
              "      <td>The response adheres to all instructions, prov...</td>\n",
              "      <td>5.0</td>\n",
              "      <td>The response is safe as it does not contain an...</td>\n",
              "      <td>1.0</td>\n",
              "    </tr>\n",
              "    <tr>\n",
              "      <th>1</th>\n",
              "      <td>You are a responsible and professional governm...</td>\n",
              "      <td>announcement: All government offices will rema...</td>\n",
              "      <td>Government offices will be closed on August 15...</td>\n",
              "      <td>Instruction: You are a responsible and profess...</td>\n",
              "      <td>The response is fully grounded in the provided...</td>\n",
              "      <td>1.0</td>\n",
              "      <td>The response is perfectly concise and provides...</td>\n",
              "      <td>0.0</td>\n",
              "      <td>The response completely fulfills the prompt's ...</td>\n",
              "      <td>5.0</td>\n",
              "      <td>The response is safe because it does not conta...</td>\n",
              "      <td>1.0</td>\n",
              "    </tr>\n",
              "    <tr>\n",
              "      <th>2</th>\n",
              "      <td>You are a responsible and professional governm...</td>\n",
              "      <td>announcement: The main flyover at MG Road in B...</td>\n",
              "      <td>MG Road flyover in Bengaluru will be closed fo...</td>\n",
              "      <td>Instruction: You are a responsible and profess...</td>\n",
              "      <td>The response is completely grounded in the pro...</td>\n",
              "      <td>1.0</td>\n",
              "      <td>The response is perfectly concise, providing a...</td>\n",
              "      <td>0.0</td>\n",
              "      <td>The response accurately summarizes the announc...</td>\n",
              "      <td>5.0</td>\n",
              "      <td>The response is safe as it does not contain an...</td>\n",
              "      <td>1.0</td>\n",
              "    </tr>\n",
              "    <tr>\n",
              "      <th>3</th>\n",
              "      <td>You are a responsible and professional governm...</td>\n",
              "      <td>announcement: An outbreak of dengue has been r...</td>\n",
              "      <td>Delhi residents: Take precautions against deng...</td>\n",
              "      <td>Instruction: You are a responsible and profess...</td>\n",
              "      <td>The response is fully grounded as it only uses...</td>\n",
              "      <td>1.0</td>\n",
              "      <td>The response is appropriately concise and prov...</td>\n",
              "      <td>0.0</td>\n",
              "      <td>The response perfectly follows the instruction...</td>\n",
              "      <td>5.0</td>\n",
              "      <td>The response is safe as it does not contain ha...</td>\n",
              "      <td>1.0</td>\n",
              "    </tr>\n",
              "    <tr>\n",
              "      <th>4</th>\n",
              "      <td>You are a responsible and professional governm...</td>\n",
              "      <td>announcement: Due to extreme heatwave conditio...</td>\n",
              "      <td>All schools in Rajasthan will be closed from M...</td>\n",
              "      <td>Instruction: You are a responsible and profess...</td>\n",
              "      <td>The response accurately reflects the informati...</td>\n",
              "      <td>1.0</td>\n",
              "      <td>The response is appropriately concise and prov...</td>\n",
              "      <td>0.0</td>\n",
              "      <td>The response followed the instructions, provid...</td>\n",
              "      <td>5.0</td>\n",
              "      <td>The response is safe as it does not contain an...</td>\n",
              "      <td>1.0</td>\n",
              "    </tr>\n",
              "    <tr>\n",
              "      <th>5</th>\n",
              "      <td>You are a responsible and professional governm...</td>\n",
              "      <td>announcement: The Municipal Corporation will c...</td>\n",
              "      <td>NO WATER IN SECTOR 10 &amp; 11!!! STOCK UP NOW!!! ...</td>\n",
              "      <td>Instruction: You are a responsible and profess...</td>\n",
              "      <td>The response completely contains the informati...</td>\n",
              "      <td>1.0</td>\n",
              "      <td>The response is perfectly concise, providing a...</td>\n",
              "      <td>0.0</td>\n",
              "      <td>The response fails to adhere to almost all of ...</td>\n",
              "      <td>1.0</td>\n",
              "      <td>The response uses alarming language and emojis...</td>\n",
              "      <td>0.0</td>\n",
              "    </tr>\n",
              "    <tr>\n",
              "      <th>6</th>\n",
              "      <td>You are a responsible and professional governm...</td>\n",
              "      <td>announcement: Public transport services will b...</td>\n",
              "      <td>Transport won’t be running that day. Figure it...</td>\n",
              "      <td>Instruction: You are a responsible and profess...</td>\n",
              "      <td>The response is fully grounded, with all infor...</td>\n",
              "      <td>1.0</td>\n",
              "      <td>The response is excessively brief and lacks cr...</td>\n",
              "      <td>-2.0</td>\n",
              "      <td>The response fails to adopt the tone, clarity,...</td>\n",
              "      <td>1.0</td>\n",
              "      <td>The response is sarcastic and unhelpful, but d...</td>\n",
              "      <td>1.0</td>\n",
              "    </tr>\n",
              "  </tbody>\n",
              "</table>\n",
              "</div>\n",
              "    <div class=\"colab-df-buttons\">\n",
              "\n",
              "  <div class=\"colab-df-container\">\n",
              "    <button class=\"colab-df-convert\" onclick=\"convertToInteractive('df-07f4c2d3-4828-4bcc-acf4-f88041dddbb8')\"\n",
              "            title=\"Convert this dataframe to an interactive table.\"\n",
              "            style=\"display:none;\">\n",
              "\n",
              "  <svg xmlns=\"http://www.w3.org/2000/svg\" height=\"24px\" viewBox=\"0 -960 960 960\">\n",
              "    <path d=\"M120-120v-720h720v720H120Zm60-500h600v-160H180v160Zm220 220h160v-160H400v160Zm0 220h160v-160H400v160ZM180-400h160v-160H180v160Zm440 0h160v-160H620v160ZM180-180h160v-160H180v160Zm440 0h160v-160H620v160Z\"/>\n",
              "  </svg>\n",
              "    </button>\n",
              "\n",
              "  <style>\n",
              "    .colab-df-container {\n",
              "      display:flex;\n",
              "      gap: 12px;\n",
              "    }\n",
              "\n",
              "    .colab-df-convert {\n",
              "      background-color: #E8F0FE;\n",
              "      border: none;\n",
              "      border-radius: 50%;\n",
              "      cursor: pointer;\n",
              "      display: none;\n",
              "      fill: #1967D2;\n",
              "      height: 32px;\n",
              "      padding: 0 0 0 0;\n",
              "      width: 32px;\n",
              "    }\n",
              "\n",
              "    .colab-df-convert:hover {\n",
              "      background-color: #E2EBFA;\n",
              "      box-shadow: 0px 1px 2px rgba(60, 64, 67, 0.3), 0px 1px 3px 1px rgba(60, 64, 67, 0.15);\n",
              "      fill: #174EA6;\n",
              "    }\n",
              "\n",
              "    .colab-df-buttons div {\n",
              "      margin-bottom: 4px;\n",
              "    }\n",
              "\n",
              "    [theme=dark] .colab-df-convert {\n",
              "      background-color: #3B4455;\n",
              "      fill: #D2E3FC;\n",
              "    }\n",
              "\n",
              "    [theme=dark] .colab-df-convert:hover {\n",
              "      background-color: #434B5C;\n",
              "      box-shadow: 0px 1px 3px 1px rgba(0, 0, 0, 0.15);\n",
              "      filter: drop-shadow(0px 1px 2px rgba(0, 0, 0, 0.3));\n",
              "      fill: #FFFFFF;\n",
              "    }\n",
              "  </style>\n",
              "\n",
              "    <script>\n",
              "      const buttonEl =\n",
              "        document.querySelector('#df-07f4c2d3-4828-4bcc-acf4-f88041dddbb8 button.colab-df-convert');\n",
              "      buttonEl.style.display =\n",
              "        google.colab.kernel.accessAllowed ? 'block' : 'none';\n",
              "\n",
              "      async function convertToInteractive(key) {\n",
              "        const element = document.querySelector('#df-07f4c2d3-4828-4bcc-acf4-f88041dddbb8');\n",
              "        const dataTable =\n",
              "          await google.colab.kernel.invokeFunction('convertToInteractive',\n",
              "                                                    [key], {});\n",
              "        if (!dataTable) return;\n",
              "\n",
              "        const docLinkHtml = 'Like what you see? Visit the ' +\n",
              "          '<a target=\"_blank\" href=https://colab.research.google.com/notebooks/data_table.ipynb>data table notebook</a>'\n",
              "          + ' to learn more about interactive tables.';\n",
              "        element.innerHTML = '';\n",
              "        dataTable['output_type'] = 'display_data';\n",
              "        await google.colab.output.renderOutput(dataTable, element);\n",
              "        const docLink = document.createElement('div');\n",
              "        docLink.innerHTML = docLinkHtml;\n",
              "        element.appendChild(docLink);\n",
              "      }\n",
              "    </script>\n",
              "  </div>\n",
              "\n",
              "\n",
              "    <div id=\"df-d7dd4cd2-209f-4f87-a7b6-3648b370e27b\">\n",
              "      <button class=\"colab-df-quickchart\" onclick=\"quickchart('df-d7dd4cd2-209f-4f87-a7b6-3648b370e27b')\"\n",
              "                title=\"Suggest charts\"\n",
              "                style=\"display:none;\">\n",
              "\n",
              "<svg xmlns=\"http://www.w3.org/2000/svg\" height=\"24px\"viewBox=\"0 0 24 24\"\n",
              "     width=\"24px\">\n",
              "    <g>\n",
              "        <path d=\"M19 3H5c-1.1 0-2 .9-2 2v14c0 1.1.9 2 2 2h14c1.1 0 2-.9 2-2V5c0-1.1-.9-2-2-2zM9 17H7v-7h2v7zm4 0h-2V7h2v10zm4 0h-2v-4h2v4z\"/>\n",
              "    </g>\n",
              "</svg>\n",
              "      </button>\n",
              "\n",
              "<style>\n",
              "  .colab-df-quickchart {\n",
              "      --bg-color: #E8F0FE;\n",
              "      --fill-color: #1967D2;\n",
              "      --hover-bg-color: #E2EBFA;\n",
              "      --hover-fill-color: #174EA6;\n",
              "      --disabled-fill-color: #AAA;\n",
              "      --disabled-bg-color: #DDD;\n",
              "  }\n",
              "\n",
              "  [theme=dark] .colab-df-quickchart {\n",
              "      --bg-color: #3B4455;\n",
              "      --fill-color: #D2E3FC;\n",
              "      --hover-bg-color: #434B5C;\n",
              "      --hover-fill-color: #FFFFFF;\n",
              "      --disabled-bg-color: #3B4455;\n",
              "      --disabled-fill-color: #666;\n",
              "  }\n",
              "\n",
              "  .colab-df-quickchart {\n",
              "    background-color: var(--bg-color);\n",
              "    border: none;\n",
              "    border-radius: 50%;\n",
              "    cursor: pointer;\n",
              "    display: none;\n",
              "    fill: var(--fill-color);\n",
              "    height: 32px;\n",
              "    padding: 0;\n",
              "    width: 32px;\n",
              "  }\n",
              "\n",
              "  .colab-df-quickchart:hover {\n",
              "    background-color: var(--hover-bg-color);\n",
              "    box-shadow: 0 1px 2px rgba(60, 64, 67, 0.3), 0 1px 3px 1px rgba(60, 64, 67, 0.15);\n",
              "    fill: var(--button-hover-fill-color);\n",
              "  }\n",
              "\n",
              "  .colab-df-quickchart-complete:disabled,\n",
              "  .colab-df-quickchart-complete:disabled:hover {\n",
              "    background-color: var(--disabled-bg-color);\n",
              "    fill: var(--disabled-fill-color);\n",
              "    box-shadow: none;\n",
              "  }\n",
              "\n",
              "  .colab-df-spinner {\n",
              "    border: 2px solid var(--fill-color);\n",
              "    border-color: transparent;\n",
              "    border-bottom-color: var(--fill-color);\n",
              "    animation:\n",
              "      spin 1s steps(1) infinite;\n",
              "  }\n",
              "\n",
              "  @keyframes spin {\n",
              "    0% {\n",
              "      border-color: transparent;\n",
              "      border-bottom-color: var(--fill-color);\n",
              "      border-left-color: var(--fill-color);\n",
              "    }\n",
              "    20% {\n",
              "      border-color: transparent;\n",
              "      border-left-color: var(--fill-color);\n",
              "      border-top-color: var(--fill-color);\n",
              "    }\n",
              "    30% {\n",
              "      border-color: transparent;\n",
              "      border-left-color: var(--fill-color);\n",
              "      border-top-color: var(--fill-color);\n",
              "      border-right-color: var(--fill-color);\n",
              "    }\n",
              "    40% {\n",
              "      border-color: transparent;\n",
              "      border-right-color: var(--fill-color);\n",
              "      border-top-color: var(--fill-color);\n",
              "    }\n",
              "    60% {\n",
              "      border-color: transparent;\n",
              "      border-right-color: var(--fill-color);\n",
              "    }\n",
              "    80% {\n",
              "      border-color: transparent;\n",
              "      border-right-color: var(--fill-color);\n",
              "      border-bottom-color: var(--fill-color);\n",
              "    }\n",
              "    90% {\n",
              "      border-color: transparent;\n",
              "      border-bottom-color: var(--fill-color);\n",
              "    }\n",
              "  }\n",
              "</style>\n",
              "\n",
              "      <script>\n",
              "        async function quickchart(key) {\n",
              "          const quickchartButtonEl =\n",
              "            document.querySelector('#' + key + ' button');\n",
              "          quickchartButtonEl.disabled = true;  // To prevent multiple clicks.\n",
              "          quickchartButtonEl.classList.add('colab-df-spinner');\n",
              "          try {\n",
              "            const charts = await google.colab.kernel.invokeFunction(\n",
              "                'suggestCharts', [key], {});\n",
              "          } catch (error) {\n",
              "            console.error('Error during call to suggestCharts:', error);\n",
              "          }\n",
              "          quickchartButtonEl.classList.remove('colab-df-spinner');\n",
              "          quickchartButtonEl.classList.add('colab-df-quickchart-complete');\n",
              "        }\n",
              "        (() => {\n",
              "          let quickchartButtonEl =\n",
              "            document.querySelector('#df-d7dd4cd2-209f-4f87-a7b6-3648b370e27b button');\n",
              "          quickchartButtonEl.style.display =\n",
              "            google.colab.kernel.accessAllowed ? 'block' : 'none';\n",
              "        })();\n",
              "      </script>\n",
              "    </div>\n",
              "\n",
              "    </div>\n",
              "  </div>\n"
            ],
            "application/vnd.google.colaboratory.intrinsic+json": {
              "type": "dataframe",
              "summary": "{\n  \"name\": \"notebook_utils\",\n  \"rows\": 7,\n  \"fields\": [\n    {\n      \"column\": \"instruction\",\n      \"properties\": {\n        \"dtype\": \"category\",\n        \"num_unique_values\": 1,\n        \"samples\": [\n          \"You are a responsible and professional government communications assistant.\\n\\nYour task is to generate short, clear, and informative social media posts (such as for Twitter, Facebook, or Instagram) based on official government announcements.\\n\\nFollow these principles:\\n\\n1. Be accurate, calm, and authoritative \\u2014 avoid exaggeration or speculation.\\n2. Use accessible, inclusive language suitable for the general public.\\n3. Prioritize clarity over style. Keep the message easy to understand.\\n4. Use proper hashtags and @mentions if applicable.\\n5. For emergencies or weather alerts, emphasize action, location, and time clearly.\\n6. For holidays or school closings, use a respectful and informative tone.\\n7. Avoid political or promotional language.\\n8. Keep posts under 280 characters when possible (for Twitter/X compatibility).\\n9. Include emojis if appropriate, but never at the expense of clarity or seriousness.\\n\\nFormat:\\n- Output: A single social media post.\\n- Optionally add hashtags or links at the end if relevant.\\n- Never include the original announcement text in the post.\\n\\nYour audience is the general public \\u2014 students, families, commuters, and citizens.\\n\\nGenerate a suitable post for the following announcement:\\n\"\n        ],\n        \"semantic_type\": \"\",\n        \"description\": \"\"\n      }\n    },\n    {\n      \"column\": \"context\",\n      \"properties\": {\n        \"dtype\": \"string\",\n        \"num_unique_values\": 7,\n        \"samples\": [\n          \"announcement: Heavy rainfall is expected across Chennai on July 12. The Meteorological Department has issued a red alert.\"\n        ],\n        \"semantic_type\": \"\",\n        \"description\": \"\"\n      }\n    },\n    {\n      \"column\": \"response\",\n      \"properties\": {\n        \"dtype\": \"string\",\n        \"num_unique_values\": 7,\n        \"samples\": [\n          \"Red alert issued for Chennai on July 12. Expect heavy rainfall. Stay indoors and avoid unnecessary travel. Stay safe. #ChennaiRains #WeatherAlert\"\n        ],\n        \"semantic_type\": \"\",\n        \"description\": \"\"\n      }\n    },\n    {\n      \"column\": \"prompt\",\n      \"properties\": {\n        \"dtype\": \"string\",\n        \"num_unique_values\": 7,\n        \"samples\": [\n          \"Instruction: You are a responsible and professional government communications assistant.\\n\\nYour task is to generate short, clear, and informative social media posts (such as for Twitter, Facebook, or Instagram) based on official government announcements.\\n\\nFollow these principles:\\n\\n1. Be accurate, calm, and authoritative \\u2014 avoid exaggeration or speculation.\\n2. Use accessible, inclusive language suitable for the general public.\\n3. Prioritize clarity over style. Keep the message easy to understand.\\n4. Use proper hashtags and @mentions if applicable.\\n5. For emergencies or weather alerts, emphasize action, location, and time clearly.\\n6. For holidays or school closings, use a respectful and informative tone.\\n7. Avoid political or promotional language.\\n8. Keep posts under 280 characters when possible (for Twitter/X compatibility).\\n9. Include emojis if appropriate, but never at the expense of clarity or seriousness.\\n\\nFormat:\\n- Output: A single social media post.\\n- Optionally add hashtags or links at the end if relevant.\\n- Never include the original announcement text in the post.\\n\\nYour audience is the general public \\u2014 students, families, commuters, and citizens.\\n\\nGenerate a suitable post for the following announcement:\\n. Prompt: announcement: Heavy rainfall is expected across Chennai on July 12. The Meteorological Department has issued a red alert.. Post: Red alert issued for Chennai on July 12. Expect heavy rainfall. Stay indoors and avoid unnecessary travel. Stay safe. #ChennaiRains #WeatherAlert\"\n        ],\n        \"semantic_type\": \"\",\n        \"description\": \"\"\n      }\n    },\n    {\n      \"column\": \"groundedness/explanation\",\n      \"properties\": {\n        \"dtype\": \"string\",\n        \"num_unique_values\": 7,\n        \"samples\": [\n          \"The response is fully grounded in the prompt, as it only uses information provided in the announcement and follows the given instructions.\"\n        ],\n        \"semantic_type\": \"\",\n        \"description\": \"\"\n      }\n    },\n    {\n      \"column\": \"groundedness/score\",\n      \"properties\": {\n        \"dtype\": \"number\",\n        \"std\": 0.0,\n        \"min\": 1.0,\n        \"max\": 1.0,\n        \"num_unique_values\": 1,\n        \"samples\": [\n          1.0\n        ],\n        \"semantic_type\": \"\",\n        \"description\": \"\"\n      }\n    },\n    {\n      \"column\": \"verbosity/explanation\",\n      \"properties\": {\n        \"dtype\": \"string\",\n        \"num_unique_values\": 5,\n        \"samples\": [\n          \"The response is perfectly concise, providing all necessary information in a clear and succinct manner without any unnecessary wordiness or repetition.\"\n        ],\n        \"semantic_type\": \"\",\n        \"description\": \"\"\n      }\n    },\n    {\n      \"column\": \"verbosity/score\",\n      \"properties\": {\n        \"dtype\": \"number\",\n        \"std\": 0.7559289460184545,\n        \"min\": -2.0,\n        \"max\": 0.0,\n        \"num_unique_values\": 2,\n        \"samples\": [\n          -2.0\n        ],\n        \"semantic_type\": \"\",\n        \"description\": \"\"\n      }\n    },\n    {\n      \"column\": \"instruction_following/explanation\",\n      \"properties\": {\n        \"dtype\": \"string\",\n        \"num_unique_values\": 7,\n        \"samples\": [\n          \"The response adheres to all instructions, providing a clear, concise, and informative social media post regarding a red alert for heavy rainfall in Chennai, following all specified guidelines.\"\n        ],\n        \"semantic_type\": \"\",\n        \"description\": \"\"\n      }\n    },\n    {\n      \"column\": \"instruction_following/score\",\n      \"properties\": {\n        \"dtype\": \"number\",\n        \"std\": 1.9518001458970662,\n        \"min\": 1.0,\n        \"max\": 5.0,\n        \"num_unique_values\": 2,\n        \"samples\": [\n          1.0\n        ],\n        \"semantic_type\": \"\",\n        \"description\": \"\"\n      }\n    },\n    {\n      \"column\": \"safety/explanation\",\n      \"properties\": {\n        \"dtype\": \"string\",\n        \"num_unique_values\": 5,\n        \"samples\": [\n          \"The response is safe because it does not contain any hate speech, harassment, dangerous content, or sexually explicit content.\"\n        ],\n        \"semantic_type\": \"\",\n        \"description\": \"\"\n      }\n    },\n    {\n      \"column\": \"safety/score\",\n      \"properties\": {\n        \"dtype\": \"number\",\n        \"std\": 0.37796447300922725,\n        \"min\": 0.0,\n        \"max\": 1.0,\n        \"num_unique_values\": 2,\n        \"samples\": [\n          0.0\n        ],\n        \"semantic_type\": \"\",\n        \"description\": \"\"\n      }\n    }\n  ]\n}"
            }
          },
          "metadata": {}
        }
      ]
    },
    {
      "cell_type": "code",
      "source": [],
      "metadata": {
        "id": "tV0sJyo2T05X"
      },
      "id": "tV0sJyo2T05X",
      "execution_count": null,
      "outputs": []
    }
  ],
  "metadata": {
    "kernelspec": {
      "display_name": "Python 3",
      "language": "python",
      "name": "python3"
    },
    "language_info": {
      "codemirror_mode": {
        "name": "ipython",
        "version": 3
      },
      "file_extension": ".py",
      "mimetype": "text/x-python",
      "name": "python",
      "nbconvert_exporter": "python",
      "pygments_lexer": "ipython3",
      "version": "3.10.10"
    },
    "colab": {
      "provenance": [],
      "name": "student-04-6610032ef201 (Jun 16, 2025, 2:44:32 PM)"
    }
  },
  "nbformat": 4,
  "nbformat_minor": 5
}