{
 "cells": [
  {
   "cell_type": "markdown",
   "id": "1266f1af",
   "metadata": {},
   "source": [
    "This notebook contains the steps needed to load the CSV file into BigQuery as embeddings"
   ]
  },
  {
   "cell_type": "markdown",
   "id": "f82c3b71",
   "metadata": {},
   "source": [
    "### Install required packages"
   ]
  },
  {
   "cell_type": "code",
   "execution_count": 1,
   "id": "71967d14",
   "metadata": {},
   "outputs": [
    {
     "name": "stdout",
     "output_type": "stream",
     "text": [
      "\n",
      "\u001b[1m[\u001b[0m\u001b[34;49mnotice\u001b[0m\u001b[1;39;49m]\u001b[0m\u001b[39;49m A new release of pip is available: \u001b[0m\u001b[31;49m24.2\u001b[0m\u001b[39;49m -> \u001b[0m\u001b[32;49m25.1.1\u001b[0m\n",
      "\u001b[1m[\u001b[0m\u001b[34;49mnotice\u001b[0m\u001b[1;39;49m]\u001b[0m\u001b[39;49m To update, run: \u001b[0m\u001b[32;49mpip install --upgrade pip\u001b[0m\n"
     ]
    }
   ],
   "source": [
    "!pip install langchain-google-genai langchain-google-vertexai langchain-google-community langchain-core --quiet"
   ]
  },
  {
   "cell_type": "markdown",
   "id": "ad8df29d",
   "metadata": {},
   "source": [
    "### Setup variables"
   ]
  },
  {
   "cell_type": "code",
   "execution_count": 2,
   "id": "beef702d",
   "metadata": {},
   "outputs": [],
   "source": [
    "PROJECT_ID='qwiklabs-gcp-03-7a8bdf6e2e2c'\n",
    "LOCATION='us'\n",
    "DATASET = \"AlaskaDept\"\n",
    "TABLE = \"faqs\"\n",
    "TABLE_EMBEDDED = \"faqs_embedded\""
   ]
  },
  {
   "cell_type": "markdown",
   "id": "9610b94e",
   "metadata": {},
   "source": [
    "### Construct a BigQuery client object."
   ]
  },
  {
   "cell_type": "code",
   "execution_count": null,
   "id": "0ff20cbf",
   "metadata": {},
   "outputs": [],
   "source": [
    "from google.cloud import bigquery\n",
    "\n",
    "client = bigquery.Client(project=PROJECT_ID)"
   ]
  },
  {
   "cell_type": "markdown",
   "id": "6015257b",
   "metadata": {},
   "source": [
    "### Create a new dataset in BigQuery"
   ]
  },
  {
   "cell_type": "code",
   "execution_count": 6,
   "id": "236f527e",
   "metadata": {},
   "outputs": [
    {
     "name": "stdout",
     "output_type": "stream",
     "text": [
      "Created dataset qwiklabs-gcp-03-7a8bdf6e2e2c.AlaskaDept\n"
     ]
    }
   ],
   "source": [
    "# Create dataset\n",
    "dataset_id = \"{}.{}\".format(client.project, DATASET)\n",
    "\n",
    "# Construct a full Dataset object to send to the API.\n",
    "dataset = bigquery.Dataset(dataset_id)\n",
    "\n",
    "# Specify the geographic location where the dataset should reside.\n",
    "dataset.location = \"US\"\n",
    "\n",
    "dataset = client.create_dataset(dataset, timeout=30)  # Make an API request.\n",
    "print(\"Created dataset {}.{}\".format(client.project, dataset.dataset_id))"
   ]
  },
  {
   "cell_type": "markdown",
   "id": "a2a469f4",
   "metadata": {},
   "source": [
    "### Create a new table"
   ]
  },
  {
   "cell_type": "code",
   "execution_count": 7,
   "id": "cd63bb30",
   "metadata": {},
   "outputs": [
    {
     "name": "stdout",
     "output_type": "stream",
     "text": [
      "Created qwiklabs-gcp-03-7a8bdf6e2e2c.AlaskaDept.faqs.\n"
     ]
    }
   ],
   "source": [
    "# Create table\n",
    "table_id = \"{}.{}.{}\".format(client.project, dataset.dataset_id, TABLE)\n",
    "\n",
    "table = bigquery.Table(table_id)\n",
    "table = client.create_table(table)  # API request\n",
    "\n",
    "print(f\"Created {table_id}.\")"
   ]
  },
  {
   "cell_type": "markdown",
   "id": "09459957",
   "metadata": {},
   "source": [
    "### Load CSV into table"
   ]
  },
  {
   "cell_type": "code",
   "execution_count": 8,
   "id": "89cadcb2",
   "metadata": {},
   "outputs": [
    {
     "name": "stdout",
     "output_type": "stream",
     "text": [
      "Loaded 50 rows.\n"
     ]
    }
   ],
   "source": [
    "# Load data from CSV\n",
    "job_config = bigquery.LoadJobConfig(\n",
    "    schema=[\n",
    "        bigquery.SchemaField(\"question\", \"STRING\"),\n",
    "        bigquery.SchemaField(\"answer\", \"STRING\"),\n",
    "    ],\n",
    "    skip_leading_rows=1,\n",
    "    # The source format defaults to CSV, so the line below is optional.\n",
    "    source_format=bigquery.SourceFormat.CSV,\n",
    ")\n",
    "uri = \"gs://labs.roitraining.com/alaska-dept-of-snow/alaska-dept-of-snow-faqs.csv\"\n",
    "\n",
    "load_job = client.load_table_from_uri(\n",
    "    uri, table_id, job_config=job_config\n",
    ")  # Make an API request.\n",
    "\n",
    "load_job.result()  # Waits for the job to complete.\n",
    "\n",
    "destination_table = client.get_table(table_id)  # Make an API request.\n",
    "print(\"Loaded {} rows.\".format(destination_table.num_rows))"
   ]
  },
  {
   "cell_type": "markdown",
   "id": "8732b855",
   "metadata": {},
   "source": [
    "### Create a Cloud resource connection"
   ]
  },
  {
   "cell_type": "code",
   "execution_count": null,
   "id": "932ce7f0",
   "metadata": {},
   "outputs": [],
   "source": [
    "!bq mk --connection --connection_type=CLOUD_RESOURCE --location=us --project_id={PROJECT_ID} \"embedding_conn\"\n",
    "!bq show --location=us --connection --project_id={PROJECT_ID} \"embedding_conn\""
   ]
  },
  {
   "cell_type": "code",
   "execution_count": null,
   "id": "bcdd77bd",
   "metadata": {},
   "outputs": [],
   "source": [
    "# Update you service acccount here\n",
    "connection_service_account = \"bqcx-569779670169-huh6@gcp-sa-bigquery-condel.iam.gserviceaccount.com\" # @param {\"type\": \"string\"}\n",
    "connection_member = f\"serviceAccount:{connection_service_account}\"\n",
    "\n",
    "!gcloud projects add-iam-policy-binding {PROJECT_ID} --member={connection_member} --role='roles/aiplatform.user' --condition=None --quiet\n",
    "# !gcloud projects add-iam-policy-binding {PROJECT_ID} --member={connection_member} --role='roles/bigquery.dataowner' --condition=None --quiet"
   ]
  },
  {
   "cell_type": "markdown",
   "id": "915f693b",
   "metadata": {},
   "source": [
    "### Create embedding model"
   ]
  },
  {
   "cell_type": "code",
   "execution_count": 9,
   "id": "59e2e6c1",
   "metadata": {},
   "outputs": [
    {
     "name": "stdout",
     "output_type": "stream",
     "text": [
      "Embeddings table created successfully.\n"
     ]
    }
   ],
   "source": [
    "query = f\"\"\"\n",
    "CREATE OR REPLACE MODEL `{DATASET}.Embeddings`\n",
    "REMOTE WITH CONNECTION `us.embedding_conn` OPTIONS (ENDPOINT = 'text-embedding-005');\n",
    "\"\"\"\n",
    "\n",
    "query_job = client.query(query)  # API request\n",
    "query_job.result()  # Waits for the query to complete\n",
    "\n",
    "print(\"Embeddings table created successfully.\")\n"
   ]
  },
  {
   "cell_type": "markdown",
   "id": "3c7e0c09",
   "metadata": {},
   "source": [
    "### Generate embeddings"
   ]
  },
  {
   "cell_type": "code",
   "execution_count": 12,
   "id": "d9333e2f",
   "metadata": {},
   "outputs": [
    {
     "name": "stdout",
     "output_type": "stream",
     "text": [
      "Embeddings generated successfully.\n"
     ]
    }
   ],
   "source": [
    "query = f\"\"\"\n",
    "CREATE OR REPLACE TABLE `{DATASET}.{TABLE_EMBEDDED}` AS\n",
    "SELECT question, answer, content, ml_generate_embedding_result AS embedding\n",
    "FROM ML.GENERATE_EMBEDDING(\n",
    "  MODEL `{DATASET}.Embeddings`,\n",
    "  (\n",
    "    SELECT CONCAT(question, ' ', answer) AS content,\n",
    "           question,\n",
    "           answer\n",
    "    FROM `{DATASET}.{TABLE}`\n",
    "  )\n",
    ");\n",
    "\"\"\"\n",
    "\n",
    "query_job = client.query(query)  # API request\n",
    "query_job.result()  # Waits for the query to complete\n",
    "\n",
    "print(\"Embeddings generated successfully.\")"
   ]
  },
  {
   "cell_type": "markdown",
   "id": "64c79381",
   "metadata": {},
   "source": [
    "#### Data is loaded to BigQuery with embeddings"
   ]
  }
 ],
 "metadata": {
  "kernelspec": {
   "display_name": "venv",
   "language": "python",
   "name": "python3"
  },
  "language_info": {
   "codemirror_mode": {
    "name": "ipython",
    "version": 3
   },
   "file_extension": ".py",
   "mimetype": "text/x-python",
   "name": "python",
   "nbconvert_exporter": "python",
   "pygments_lexer": "ipython3",
   "version": "3.11.10"
  }
 },
 "nbformat": 4,
 "nbformat_minor": 5
}
